{
  "nbformat": 4,
  "nbformat_minor": 0,
  "metadata": {
    "colab": {
      "name": "ngdodd_cse576_synthetic_data_gen.ipynb",
      "provenance": [],
      "collapsed_sections": [],
      "machine_shape": "hm",
      "include_colab_link": true
    },
    "kernelspec": {
      "name": "python3",
      "display_name": "Python 3"
    },
    "accelerator": "GPU",
    "widgets": {
      "application/vnd.jupyter.widget-state+json": {
        "fe0545c7b3ab41079950c6327861d028": {
          "model_module": "@jupyter-widgets/controls",
          "model_name": "HBoxModel",
          "state": {
            "_view_name": "HBoxView",
            "_dom_classes": [],
            "_model_name": "HBoxModel",
            "_view_module": "@jupyter-widgets/controls",
            "_model_module_version": "1.5.0",
            "_view_count": null,
            "_view_module_version": "1.5.0",
            "box_style": "",
            "layout": "IPY_MODEL_a17cb0a0a82b4fab85d310d3f55c06ea",
            "_model_module": "@jupyter-widgets/controls",
            "children": [
              "IPY_MODEL_0bba98d65bdf40feb5ce8bb61a7d942c",
              "IPY_MODEL_552e60ba70c74f4db117dba1c787f077"
            ]
          }
        },
        "a17cb0a0a82b4fab85d310d3f55c06ea": {
          "model_module": "@jupyter-widgets/base",
          "model_name": "LayoutModel",
          "state": {
            "_view_name": "LayoutView",
            "grid_template_rows": null,
            "right": null,
            "justify_content": null,
            "_view_module": "@jupyter-widgets/base",
            "overflow": null,
            "_model_module_version": "1.2.0",
            "_view_count": null,
            "flex_flow": null,
            "width": null,
            "min_width": null,
            "border": null,
            "align_items": null,
            "bottom": null,
            "_model_module": "@jupyter-widgets/base",
            "top": null,
            "grid_column": null,
            "overflow_y": null,
            "overflow_x": null,
            "grid_auto_flow": null,
            "grid_area": null,
            "grid_template_columns": null,
            "flex": null,
            "_model_name": "LayoutModel",
            "justify_items": null,
            "grid_row": null,
            "max_height": null,
            "align_content": null,
            "visibility": null,
            "align_self": null,
            "height": null,
            "min_height": null,
            "padding": null,
            "grid_auto_rows": null,
            "grid_gap": null,
            "max_width": null,
            "order": null,
            "_view_module_version": "1.2.0",
            "grid_template_areas": null,
            "object_position": null,
            "object_fit": null,
            "grid_auto_columns": null,
            "margin": null,
            "display": null,
            "left": null
          }
        },
        "0bba98d65bdf40feb5ce8bb61a7d942c": {
          "model_module": "@jupyter-widgets/controls",
          "model_name": "FloatProgressModel",
          "state": {
            "_view_name": "ProgressView",
            "style": "IPY_MODEL_928871705d19489f833c7b0b4485c9d6",
            "_dom_classes": [],
            "description": "",
            "_model_name": "FloatProgressModel",
            "bar_style": "info",
            "max": 1,
            "_view_module": "@jupyter-widgets/controls",
            "_model_module_version": "1.5.0",
            "value": 1,
            "_view_count": null,
            "_view_module_version": "1.5.0",
            "orientation": "horizontal",
            "min": 0,
            "description_tooltip": null,
            "_model_module": "@jupyter-widgets/controls",
            "layout": "IPY_MODEL_9f109bfca39d42b298ce7db540badc78"
          }
        },
        "552e60ba70c74f4db117dba1c787f077": {
          "model_module": "@jupyter-widgets/controls",
          "model_name": "HTMLModel",
          "state": {
            "_view_name": "HTMLView",
            "style": "IPY_MODEL_a7e38949cbf44b1b9e018486ee968850",
            "_dom_classes": [],
            "description": "",
            "_model_name": "HTMLModel",
            "placeholder": "​",
            "_view_module": "@jupyter-widgets/controls",
            "_model_module_version": "1.5.0",
            "value": " 1/? [00:00&lt;00:00,  9.57 tables/s]",
            "_view_count": null,
            "_view_module_version": "1.5.0",
            "description_tooltip": null,
            "_model_module": "@jupyter-widgets/controls",
            "layout": "IPY_MODEL_9386cde68ffe404aa68a61d5024a7f6b"
          }
        },
        "928871705d19489f833c7b0b4485c9d6": {
          "model_module": "@jupyter-widgets/controls",
          "model_name": "ProgressStyleModel",
          "state": {
            "_view_name": "StyleView",
            "_model_name": "ProgressStyleModel",
            "description_width": "initial",
            "_view_module": "@jupyter-widgets/base",
            "_model_module_version": "1.5.0",
            "_view_count": null,
            "_view_module_version": "1.2.0",
            "bar_color": null,
            "_model_module": "@jupyter-widgets/controls"
          }
        },
        "9f109bfca39d42b298ce7db540badc78": {
          "model_module": "@jupyter-widgets/base",
          "model_name": "LayoutModel",
          "state": {
            "_view_name": "LayoutView",
            "grid_template_rows": null,
            "right": null,
            "justify_content": null,
            "_view_module": "@jupyter-widgets/base",
            "overflow": null,
            "_model_module_version": "1.2.0",
            "_view_count": null,
            "flex_flow": null,
            "width": null,
            "min_width": null,
            "border": null,
            "align_items": null,
            "bottom": null,
            "_model_module": "@jupyter-widgets/base",
            "top": null,
            "grid_column": null,
            "overflow_y": null,
            "overflow_x": null,
            "grid_auto_flow": null,
            "grid_area": null,
            "grid_template_columns": null,
            "flex": null,
            "_model_name": "LayoutModel",
            "justify_items": null,
            "grid_row": null,
            "max_height": null,
            "align_content": null,
            "visibility": null,
            "align_self": null,
            "height": null,
            "min_height": null,
            "padding": null,
            "grid_auto_rows": null,
            "grid_gap": null,
            "max_width": null,
            "order": null,
            "_view_module_version": "1.2.0",
            "grid_template_areas": null,
            "object_position": null,
            "object_fit": null,
            "grid_auto_columns": null,
            "margin": null,
            "display": null,
            "left": null
          }
        },
        "a7e38949cbf44b1b9e018486ee968850": {
          "model_module": "@jupyter-widgets/controls",
          "model_name": "DescriptionStyleModel",
          "state": {
            "_view_name": "StyleView",
            "_model_name": "DescriptionStyleModel",
            "description_width": "",
            "_view_module": "@jupyter-widgets/base",
            "_model_module_version": "1.5.0",
            "_view_count": null,
            "_view_module_version": "1.2.0",
            "_model_module": "@jupyter-widgets/controls"
          }
        },
        "9386cde68ffe404aa68a61d5024a7f6b": {
          "model_module": "@jupyter-widgets/base",
          "model_name": "LayoutModel",
          "state": {
            "_view_name": "LayoutView",
            "grid_template_rows": null,
            "right": null,
            "justify_content": null,
            "_view_module": "@jupyter-widgets/base",
            "overflow": null,
            "_model_module_version": "1.2.0",
            "_view_count": null,
            "flex_flow": null,
            "width": null,
            "min_width": null,
            "border": null,
            "align_items": null,
            "bottom": null,
            "_model_module": "@jupyter-widgets/base",
            "top": null,
            "grid_column": null,
            "overflow_y": null,
            "overflow_x": null,
            "grid_auto_flow": null,
            "grid_area": null,
            "grid_template_columns": null,
            "flex": null,
            "_model_name": "LayoutModel",
            "justify_items": null,
            "grid_row": null,
            "max_height": null,
            "align_content": null,
            "visibility": null,
            "align_self": null,
            "height": null,
            "min_height": null,
            "padding": null,
            "grid_auto_rows": null,
            "grid_gap": null,
            "max_width": null,
            "order": null,
            "_view_module_version": "1.2.0",
            "grid_template_areas": null,
            "object_position": null,
            "object_fit": null,
            "grid_auto_columns": null,
            "margin": null,
            "display": null,
            "left": null
          }
        }
      }
    }
  },
  "cells": [
    {
      "cell_type": "markdown",
      "metadata": {
        "id": "view-in-github",
        "colab_type": "text"
      },
      "source": [
        "<a href=\"https://colab.research.google.com/github/ngdodd/transformers/blob/master/ngdodd_cse576_synthetic_data_gen.ipynb\" target=\"_parent\"><img src=\"https://colab.research.google.com/assets/colab-badge.svg\" alt=\"Open In Colab\"/></a>"
      ]
    },
    {
      "cell_type": "markdown",
      "metadata": {
        "id": "lA5wcHB87r0b"
      },
      "source": [
        "Install dependencies"
      ]
    },
    {
      "cell_type": "code",
      "metadata": {
        "colab": {
          "base_uri": "https://localhost:8080/"
        },
        "id": "gUfdN3HorZJN",
        "outputId": "393c0113-d138-42e9-e718-b25936b3e42b"
      },
      "source": [
        "!pip install fastBPE regex requests sacremoses subword_nmt omegaconf hydra-core datasets==1.1.2"
      ],
      "execution_count": null,
      "outputs": [
        {
          "output_type": "stream",
          "text": [
            "Collecting fastBPE\n",
            "  Downloading https://files.pythonhosted.org/packages/e1/37/f97181428a5d151501b90b2cebedf97c81b034ace753606a3cda5ad4e6e2/fastBPE-0.1.0.tar.gz\n",
            "Requirement already satisfied: regex in /usr/local/lib/python3.6/dist-packages (2019.12.20)\n",
            "Requirement already satisfied: requests in /usr/local/lib/python3.6/dist-packages (2.23.0)\n",
            "Collecting sacremoses\n",
            "\u001b[?25l  Downloading https://files.pythonhosted.org/packages/7d/34/09d19aff26edcc8eb2a01bed8e98f13a1537005d31e95233fd48216eed10/sacremoses-0.0.43.tar.gz (883kB)\n",
            "\u001b[K     |████████████████████████████████| 890kB 12.2MB/s \n",
            "\u001b[?25hCollecting subword_nmt\n",
            "  Downloading https://files.pythonhosted.org/packages/74/60/6600a7bc09e7ab38bc53a48a20d8cae49b837f93f5842a41fe513a694912/subword_nmt-0.3.7-py2.py3-none-any.whl\n",
            "Collecting omegaconf\n",
            "  Downloading https://files.pythonhosted.org/packages/e5/f6/043b6d255dd6fbf2025110cea35b87f4c5100a181681d8eab496269f0d5b/omegaconf-2.0.5-py3-none-any.whl\n",
            "Collecting hydra-core\n",
            "\u001b[?25l  Downloading https://files.pythonhosted.org/packages/f0/1f/7f502b9e37596164111655861370b08626f46f9e4524433c354f472765d4/hydra_core-1.0.4-py3-none-any.whl (122kB)\n",
            "\u001b[K     |████████████████████████████████| 122kB 31.1MB/s \n",
            "\u001b[?25hCollecting datasets==1.1.2\n",
            "\u001b[?25l  Downloading https://files.pythonhosted.org/packages/f0/f4/2a3d6aee93ae7fce6c936dda2d7f534ad5f044a21238f85e28f0b205adf0/datasets-1.1.2-py3-none-any.whl (147kB)\n",
            "\u001b[K     |████████████████████████████████| 153kB 31.3MB/s \n",
            "\u001b[?25hRequirement already satisfied: certifi>=2017.4.17 in /usr/local/lib/python3.6/dist-packages (from requests) (2020.11.8)\n",
            "Requirement already satisfied: idna<3,>=2.5 in /usr/local/lib/python3.6/dist-packages (from requests) (2.10)\n",
            "Requirement already satisfied: urllib3!=1.25.0,!=1.25.1,<1.26,>=1.21.1 in /usr/local/lib/python3.6/dist-packages (from requests) (1.24.3)\n",
            "Requirement already satisfied: chardet<4,>=3.0.2 in /usr/local/lib/python3.6/dist-packages (from requests) (3.0.4)\n",
            "Requirement already satisfied: six in /usr/local/lib/python3.6/dist-packages (from sacremoses) (1.15.0)\n",
            "Requirement already satisfied: click in /usr/local/lib/python3.6/dist-packages (from sacremoses) (7.1.2)\n",
            "Requirement already satisfied: joblib in /usr/local/lib/python3.6/dist-packages (from sacremoses) (0.17.0)\n",
            "Requirement already satisfied: tqdm in /usr/local/lib/python3.6/dist-packages (from sacremoses) (4.41.1)\n",
            "Requirement already satisfied: dataclasses; python_version == \"3.6\" in /usr/local/lib/python3.6/dist-packages (from omegaconf) (0.8)\n",
            "Requirement already satisfied: typing-extensions in /usr/local/lib/python3.6/dist-packages (from omegaconf) (3.7.4.3)\n",
            "Collecting PyYAML>=5.1.*\n",
            "\u001b[?25l  Downloading https://files.pythonhosted.org/packages/64/c2/b80047c7ac2478f9501676c988a5411ed5572f35d1beff9cae07d321512c/PyYAML-5.3.1.tar.gz (269kB)\n",
            "\u001b[K     |████████████████████████████████| 276kB 42.0MB/s \n",
            "\u001b[?25hCollecting antlr4-python3-runtime==4.8\n",
            "\u001b[?25l  Downloading https://files.pythonhosted.org/packages/56/02/789a0bddf9c9b31b14c3e79ec22b9656185a803dc31c15f006f9855ece0d/antlr4-python3-runtime-4.8.tar.gz (112kB)\n",
            "\u001b[K     |████████████████████████████████| 112kB 41.6MB/s \n",
            "\u001b[?25hRequirement already satisfied: importlib-resources; python_version < \"3.9\" in /usr/local/lib/python3.6/dist-packages (from hydra-core) (3.3.0)\n",
            "Requirement already satisfied: pandas in /usr/local/lib/python3.6/dist-packages (from datasets==1.1.2) (1.1.4)\n",
            "Requirement already satisfied: filelock in /usr/local/lib/python3.6/dist-packages (from datasets==1.1.2) (3.0.12)\n",
            "Requirement already satisfied: multiprocess in /usr/local/lib/python3.6/dist-packages (from datasets==1.1.2) (0.70.11.1)\n",
            "Requirement already satisfied: numpy>=1.17 in /usr/local/lib/python3.6/dist-packages (from datasets==1.1.2) (1.18.5)\n",
            "Requirement already satisfied: dill in /usr/local/lib/python3.6/dist-packages (from datasets==1.1.2) (0.3.3)\n",
            "Collecting xxhash\n",
            "\u001b[?25l  Downloading https://files.pythonhosted.org/packages/f7/73/826b19f3594756cb1c6c23d2fbd8ca6a77a9cd3b650c9dec5acc85004c38/xxhash-2.0.0-cp36-cp36m-manylinux2010_x86_64.whl (242kB)\n",
            "\u001b[K     |████████████████████████████████| 245kB 37.2MB/s \n",
            "\u001b[?25hCollecting pyarrow>=0.17.1\n",
            "\u001b[?25l  Downloading https://files.pythonhosted.org/packages/d7/e1/27958a70848f8f7089bff8d6ebe42519daf01f976d28b481e1bfd52c8097/pyarrow-2.0.0-cp36-cp36m-manylinux2014_x86_64.whl (17.7MB)\n",
            "\u001b[K     |████████████████████████████████| 17.7MB 350kB/s \n",
            "\u001b[?25hRequirement already satisfied: zipp>=0.4; python_version < \"3.8\" in /usr/local/lib/python3.6/dist-packages (from importlib-resources; python_version < \"3.9\"->hydra-core) (3.4.0)\n",
            "Requirement already satisfied: pytz>=2017.2 in /usr/local/lib/python3.6/dist-packages (from pandas->datasets==1.1.2) (2018.9)\n",
            "Requirement already satisfied: python-dateutil>=2.7.3 in /usr/local/lib/python3.6/dist-packages (from pandas->datasets==1.1.2) (2.8.1)\n",
            "Building wheels for collected packages: fastBPE, sacremoses, PyYAML, antlr4-python3-runtime\n",
            "  Building wheel for fastBPE (setup.py) ... \u001b[?25l\u001b[?25hdone\n",
            "  Created wheel for fastBPE: filename=fastBPE-0.1.0-cp36-cp36m-linux_x86_64.whl size=481489 sha256=f7fb8fccfdbe0cd281c09ba0d2138611b39ee0c1de566fc2df56755055e0e106\n",
            "  Stored in directory: /root/.cache/pip/wheels/f3/0c/9c/fc62058b4d473a5602bcd3d3edfece796f123875379ea82d79\n",
            "  Building wheel for sacremoses (setup.py) ... \u001b[?25l\u001b[?25hdone\n",
            "  Created wheel for sacremoses: filename=sacremoses-0.0.43-cp36-none-any.whl size=893257 sha256=5729c3e7e6484949d7012840b00d9fc7daf1222ad5e6cffad3c39311d8d1f128\n",
            "  Stored in directory: /root/.cache/pip/wheels/29/3c/fd/7ce5c3f0666dab31a50123635e6fb5e19ceb42ce38d4e58f45\n",
            "  Building wheel for PyYAML (setup.py) ... \u001b[?25l\u001b[?25hdone\n",
            "  Created wheel for PyYAML: filename=PyYAML-5.3.1-cp36-cp36m-linux_x86_64.whl size=44619 sha256=cc0611ac108c859a7e88a6425c8e488bfee57fbf241234a8999d68c641040135\n",
            "  Stored in directory: /root/.cache/pip/wheels/a7/c1/ea/cf5bd31012e735dc1dfea3131a2d5eae7978b251083d6247bd\n",
            "  Building wheel for antlr4-python3-runtime (setup.py) ... \u001b[?25l\u001b[?25hdone\n",
            "  Created wheel for antlr4-python3-runtime: filename=antlr4_python3_runtime-4.8-cp36-none-any.whl size=141230 sha256=18dfa9cc9e2e8608310a35aef87654c566701a02d3b83efcd6038757262e1a94\n",
            "  Stored in directory: /root/.cache/pip/wheels/e3/e2/fa/b78480b448b8579ddf393bebd3f47ee23aa84c89b6a78285c8\n",
            "Successfully built fastBPE sacremoses PyYAML antlr4-python3-runtime\n",
            "Installing collected packages: fastBPE, sacremoses, subword-nmt, PyYAML, omegaconf, antlr4-python3-runtime, hydra-core, xxhash, pyarrow, datasets\n",
            "  Found existing installation: PyYAML 3.13\n",
            "    Uninstalling PyYAML-3.13:\n",
            "      Successfully uninstalled PyYAML-3.13\n",
            "  Found existing installation: pyarrow 0.14.1\n",
            "    Uninstalling pyarrow-0.14.1:\n",
            "      Successfully uninstalled pyarrow-0.14.1\n",
            "Successfully installed PyYAML-5.3.1 antlr4-python3-runtime-4.8 datasets-1.1.2 fastBPE-0.1.0 hydra-core-1.0.4 omegaconf-2.0.5 pyarrow-2.0.0 sacremoses-0.0.43 subword-nmt-0.3.7 xxhash-2.0.0\n"
          ],
          "name": "stdout"
        }
      ]
    },
    {
      "cell_type": "markdown",
      "metadata": {
        "id": "C9DXFM74rPma"
      },
      "source": [
        "Python script for conversion and backtranslation. Run this to make the functions available."
      ]
    },
    {
      "cell_type": "code",
      "metadata": {
        "id": "5BA2bDGwqzfg"
      },
      "source": [
        "# -*- coding: utf-8 -*-\n",
        "\"\"\"\n",
        "Created on Mon Nov 23 14:37:21 2020\n",
        "\n",
        "@author: nickg\n",
        "\"\"\"\n",
        "import os\n",
        "import json\n",
        "import torch\n",
        "import argparse\n",
        "import pandas as pd\n",
        "from tqdm import tqdm\n",
        "from datasets import load_dataset\n",
        "#from transformers import MarianMTModel, MarianTokenizer\n",
        "\n",
        "# Global backtranslation lambda for backtranslating a given string from src->dst->src\n",
        "en2de = None # Placeholder for the English->German model from fairseq: https://github.com/pytorch/fairseq\n",
        "de2en = None # Placeholder for the German->English model from fairseq: https://github.com/pytorch/fairseq\n",
        "backtranslate = lambda txts : de2en.translate(en2de.translate(txts))\n",
        "\n",
        "#dest_tokenizer = MarianTokenizer.from_pretrained('Helsinki-NLP/opus-mt-en-ROMANCE')\n",
        "#dest_model = MarianMTModel.from_pretrained('Helsinki-NLP/opus-mt-en-ROMANCE')\n",
        "#src_tokenizer = MarianTokenizer.from_pretrained('Helsinki-NLP/opus-mt-ROMANCE-en')\n",
        "#src_model = MarianMTModel.from_pretrained('Helsinki-NLP/opus-mt-ROMANCE-en')\n",
        "\n",
        "#def translate(txts, model, tokenizer, dest=\"de\"):    \n",
        "#    tokenized_txts = tokenizer.prepare_seq2seq_batch([f\"{txt}\" if dest==\"en\" else f\">>{dest}<< {txt}\" for txt in txts])\n",
        "#    return tokenizer.batch_decode(model.generate(**tokenized_txts), skip_special_tokens=True)\n",
        "\n",
        "#def backtranslate(txts, src=\"en\", dest=\"de\"):\n",
        "#    translated_txts = translate(txts, dest_model, dest_tokenizer, dest=dest)\n",
        "#    return translate(translated_txts, src_model, src_tokenizer, dest=src)\n",
        "\n",
        "# Initialize NMT models from the \"Understanding Back-Translation at Scale\" paper\n",
        "def init_bt_models():\n",
        "    global en2de\n",
        "    global de2en\n",
        "\n",
        "    print(\"\\nBuilding English->German model, this may take a couple of minutes...\")\n",
        "    en2de = torch.hub.load('pytorch/fairseq', 'transformer.wmt19.en-de.single_model', tokenizer='moses', bpe='fastbpe')\n",
        "  \n",
        "    print(\"\\nBuilding German->English model, this may take a couple of minutes...\")\n",
        "    de2en = torch.hub.load('pytorch/fairseq', 'transformer.wmt19.de-en.single_model', tokenizer='moses', bpe='fastbpe')\n",
        "  \n",
        "    if torch.cuda.is_available():\n",
        "        print(\"CUDA enabled for NMT backtranslation models...\")\n",
        "        en2de.cuda()\n",
        "        de2en.cuda()\n",
        "\n",
        "# Apply backtranslation to the question, context, and answer options of a single quail entry\n",
        "def backtranslate_quail_entry(entry):\n",
        "    entry['question'] = backtranslate([entry['question']])\n",
        "    entry['context'] = backtranslate([entry['context']])\n",
        "    entry['answers'] = backtranslate(entry['answers'])\n",
        "    \n",
        "# Write a single json'd data entry to file and apply backtranslation if configured to do so\n",
        "def write_jsonl_entry(entry, jsonl_file):\n",
        "    json.dump(entry, jsonl_file)\n",
        "    jsonl_file.write('\\n')\n",
        "\n",
        "# Backtranslate the dataset stored in f by batching and serving to fairseq models\n",
        "# for NMT inference. Convert dataset entries accordingly and save to file.\n",
        "def backtranslate_dataset(path, split, batch_size, bt_output_file, n_samples):\n",
        "    print(\"Loading data to backtranslate from {}...\".format(path))\n",
        "    n_batches = n_samples//batch_size\n",
        "    print(\"\\nBacktranslating {} samples in {} split using {} batches of size {}. Ignoring {} samples...\".format(n_samples, split, n_batches, batch_size, n_samples-(n_batches*batch_size)))\n",
        "    dataset = load_dataset('json', data_files='cosmos_qa/cosmos_qa_train.jsonl', split=[f\"{split}[{batch_size*k}:{batch_size*(k+1)}]\" for k in range(n_batches)])\n",
        "    #dataset = load_dataset('json', data_files=path, split=[f\"{split}[{batch_size*k}:{batch_size*(k+1)}]\" for k in range(n_batches)])\n",
        "    for batch in tqdm(dataset):\n",
        "        bt_question_batch = backtranslate([entry['question'] for entry in batch])\n",
        "        bt_context_batch = backtranslate([entry['context'] for context in batch])\n",
        "        bt_answers_batch = backtranslate([ans_option for ans_option in entry['answers'] for entry in batch])\n",
        "        bt_answers_batch = [bt_answers_batch[k:k+4] for k in range(0, len(bt_answers_batch), 4)] # Regroup answer batch\n",
        "\n",
        "        # Iterate over the backtranslated batch and write entries to file\n",
        "        for itr, entry in enumerate(batch):\n",
        "            entry['question'] = bt_question_batch[itr]\n",
        "            entry['context'] = bt_context_batch[itr]\n",
        "            entry['answers'] = bt_answers_batch[itr]\n",
        "            json.dump(entry, bt_output_file)\n",
        "            bt_output_file.write('\\n')\n",
        "    \n",
        "# A two-for-one data formatter for both swag and hellaswag datasets.\n",
        "# Splits for swag: train, val\n",
        "# Splits for hellaswag: train, validation\n",
        "def swag2quail(split, with_backtranslation, prefix=\"\"):\n",
        "    is_hella = prefix==\"hella\"\n",
        "    itr_container = pd.read_csv(\"swag/{}.csv\".format(split)).iterrows() if not is_hella else enumerate(load_dataset('hellaswag')[split]) \n",
        "    elem_indices = ['source_id', 'ctx_a', 'ctx_b', 'label'] if is_hella else [2, 4, 5, 11]\n",
        "    ending_funct = lambda e, k : e['endings'][k] if is_hella else e['ending{}'.format(k)]\n",
        "    \n",
        "    path = \"swag/{}swag_{}.jsonl\".format(prefix, split)\n",
        "    bt_path = \"swag/{}swag_{}_backtranslated.jsonl\".format(prefix, split)\n",
        "    with open(path, mode='w', encoding='utf-8') as f, open(bt_path, mode='w', encoding='utf-8') as bt_f:\n",
        "        for swag_entry in tqdm(itr_container):\n",
        "            quail_entry = {\"id\": swag_entry[elem_indices[0]],\n",
        "                           \"context\": swag_entry[elem_indices[1]],\n",
        "                           \"question\": swag_entry[elem_indices[2]],\n",
        "                           \"question_type\": 'Subsequent_state',\n",
        "                           \"answers\": [ending_funct(swag_entry,k) for k in range(4)],\n",
        "                           \"correct_answer_id\": swag_entry[elem_indices[-1]] }\n",
        "            write_jsonl_entry(quail_entry, f, bt_f, with_backtranslation)\n",
        "         \n",
        "# Convert cosmos_qa to quail format. Questions for which the correct answer contains\n",
        "# \"None of the above\" are unanswerable questions in this dataset.\n",
        "# Splits: train, validation\n",
        "def cosmos2quail(split, with_backtranslation, batch_size=64):\n",
        "    is_unanswerable = lambda e : \"None of the above\" in e[\"answer{}\".format(e['label'])]\n",
        "    cosmos = load_dataset('cosmos_qa')[split]\n",
        "\n",
        "    path = \"cosmos_qa/cosmos_qa_{}.jsonl\".format(split)\n",
        "    bt_path = \"cosmos_qa/cosmos_qa_{}_backtranslated.jsonl\".format(split)\n",
        "    with open(path, mode='w', encoding='utf-8') as f, open(bt_path, mode='w', encoding='utf-8') as bt_f:\n",
        "        print(\"Converting data to quail format...\")\n",
        "        for cosmos_entry in tqdm(cosmos):\n",
        "            quail_entry = {\"id\": cosmos_entry['id'],\n",
        "                           \"context\": cosmos_entry['context'],\n",
        "                           \"question\": cosmos_entry['question'],\n",
        "                           \"question_type\": 'Unanswerable' if is_unanswerable(cosmos_entry) else 'Causality',\n",
        "                           \"answers\": [cosmos_entry['answer{}'.format(k)] for k in range(4)],\n",
        "                           \"correct_answer_id\": cosmos_entry['label'] }\n",
        "            write_jsonl_entry(quail_entry, f)\n",
        "        if with_backtranslation:\n",
        "              backtranslate_dataset(path, split, batch_size, bt_f, len(cosmos))\n",
        "    \n",
        "def process_dataset(dataset, split, with_backtranslation=False):\n",
        "    print(\"Processing {}[{}]{}...\".format(dataset, split, \" and applying backtranslation\" if with_backtranslation else ''))\n",
        "    if with_backtranslation:\n",
        "        print(\"Initializing backtranslation models...\")\n",
        "        init_bt_models()\n",
        "\n",
        "    if 'swag' in dataset:      \n",
        "        swag2quail(split, with_backtranslation, dataset.split('swag')[0])\n",
        "    elif 'cosmos_qa' in dataset:\n",
        "        cosmos2quail(split, with_backtranslation)\n",
        "    else:\n",
        "        print(\"Unknown dataset: {}\".format(dataset))"
      ],
      "execution_count": null,
      "outputs": []
    },
    {
      "cell_type": "markdown",
      "metadata": {
        "id": "FrHHyIkRsV9M"
      },
      "source": [
        "Get quail formatted cosmos_qa datasets and apply backtranslation:"
      ]
    },
    {
      "cell_type": "code",
      "metadata": {
        "id": "6GAeSDJesdN-"
      },
      "source": [
        "!mkdir cosmos_qa\n",
        "process_dataset(dataset='cosmos_qa', split='train', with_backtranslation=True)\n",
        "process_dataset(dataset='cosmos_qa', split='validation', with_backtranslation=True)"
      ],
      "execution_count": null,
      "outputs": []
    },
    {
      "cell_type": "markdown",
      "metadata": {
        "id": "5P5E9cymz2R_"
      },
      "source": [
        "Sandbox"
      ]
    },
    {
      "cell_type": "code",
      "metadata": {
        "colab": {
          "base_uri": "https://localhost:8080/",
          "height": 88,
          "referenced_widgets": [
            "fe0545c7b3ab41079950c6327861d028",
            "a17cb0a0a82b4fab85d310d3f55c06ea",
            "0bba98d65bdf40feb5ce8bb61a7d942c",
            "552e60ba70c74f4db117dba1c787f077",
            "928871705d19489f833c7b0b4485c9d6",
            "9f109bfca39d42b298ce7db540badc78",
            "a7e38949cbf44b1b9e018486ee968850",
            "9386cde68ffe404aa68a61d5024a7f6b"
          ]
        },
        "id": "fnsE6lOiVJYY",
        "outputId": "61894328-3e22-4579-f963-05daf4be3f87"
      },
      "source": [
        "batch_size=64\n",
        "n_batches=394\n",
        "split='train'\n",
        "dataset = load_dataset('json', data_files='cosmos_qa/cosmos_qa_train.jsonl', split=[f\"{split}[{batch_size*k}:{batch_size*(k+1)}]\" for k in range(n_batches)])"
      ],
      "execution_count": null,
      "outputs": [
        {
          "output_type": "stream",
          "text": [
            "Using custom data configuration default\n"
          ],
          "name": "stderr"
        },
        {
          "output_type": "stream",
          "text": [
            "Downloading and preparing dataset json/default-ea1472831332e1f0 (download: Unknown size, generated: Unknown size, post-processed: Unknown size, total: Unknown size) to /root/.cache/huggingface/datasets/json/default-ea1472831332e1f0/0.0.0/fb88b12bd94767cb0cc7eedcd82ea1f402d2162addc03a37e81d4f8dc7313ad9...\n"
          ],
          "name": "stdout"
        },
        {
          "output_type": "display_data",
          "data": {
            "application/vnd.jupyter.widget-view+json": {
              "model_id": "fe0545c7b3ab41079950c6327861d028",
              "version_minor": 0,
              "version_major": 2
            },
            "text/plain": [
              "HBox(children=(FloatProgress(value=1.0, bar_style='info', max=1.0), HTML(value='')))"
            ]
          },
          "metadata": {
            "tags": []
          }
        },
        {
          "output_type": "stream",
          "text": [
            "Dataset json downloaded and prepared to /root/.cache/huggingface/datasets/json/default-ea1472831332e1f0/0.0.0/fb88b12bd94767cb0cc7eedcd82ea1f402d2162addc03a37e81d4f8dc7313ad9. Subsequent calls will reuse this data.\n"
          ],
          "name": "stdout"
        }
      ]
    }
  ]
}
